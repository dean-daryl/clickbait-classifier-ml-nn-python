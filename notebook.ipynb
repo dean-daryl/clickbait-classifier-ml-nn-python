{
 "cells": [
  {
   "cell_type": "code",
   "execution_count": 16,
   "id": "c7354b3c-6228-4514-b86d-4dd1427456b9",
   "metadata": {},
   "outputs": [],
   "source": [
    "import pandas as pd\n",
    "import numpy as np"
   ]
  },
  {
   "cell_type": "code",
   "execution_count": 21,
   "id": "64280f2e-4327-4444-9419-314fce704ff4",
   "metadata": {},
   "outputs": [],
   "source": [
    "dataset0 = pd.read_csv(\"input/clickbait_data.csv\")"
   ]
  },
  {
   "cell_type": "code",
   "execution_count": 24,
   "id": "e8926447-b76a-486f-a50d-2d5aab7eba38",
   "metadata": {},
   "outputs": [
    {
     "name": "stdout",
     "output_type": "stream",
     "text": [
      "                                            headline  clickbait\n",
      "0                                 Should I Get Bings          1\n",
      "1      Which TV Female Friend Group Do You Belong In          1\n",
      "2  The New \"Star Wars: The Force Awakens\" Trailer...          1\n",
      "3  This Vine Of New York On \"Celebrity Big Brothe...          1\n",
      "4  A Couple Did A Stunning Photo Shoot With Their...          1\n",
      "(32000, 2)\n"
     ]
    }
   ],
   "source": [
    "print(dataset0.head())\n",
    "print(dataset0.shape)"
   ]
  },
  {
   "cell_type": "code",
   "execution_count": null,
   "id": "624844c9-6681-451b-bfcc-114f001c883a",
   "metadata": {},
   "outputs": [],
   "source": []
  }
 ],
 "metadata": {
  "kernelspec": {
   "display_name": "Python 3 (ipykernel)",
   "language": "python",
   "name": "python3"
  },
  "language_info": {
   "codemirror_mode": {
    "name": "ipython",
    "version": 3
   },
   "file_extension": ".py",
   "mimetype": "text/x-python",
   "name": "python",
   "nbconvert_exporter": "python",
   "pygments_lexer": "ipython3",
   "version": "3.12.8"
  }
 },
 "nbformat": 4,
 "nbformat_minor": 5
}
